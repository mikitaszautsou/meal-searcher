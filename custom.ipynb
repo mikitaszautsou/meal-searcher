{
 "cells": [
  {
   "cell_type": "code",
   "execution_count": 103,
   "metadata": {},
   "outputs": [],
   "source": [
    "import json\n",
    "\n",
    "# Load the JSON data from data.json\n",
    "with open('data/custom.json') as f:\n",
    "    data = json.load(f)\n",
    "\n"
   ]
  },
  {
   "cell_type": "code",
   "execution_count": 104,
   "metadata": {},
   "outputs": [
    {
     "data": {
      "text/plain": [
       "['Cooked buckwheat', 'Cooked Chicken Breast', 'Olive oil']"
      ]
     },
     "execution_count": 104,
     "metadata": {},
     "output_type": "execute_result"
    }
   ],
   "source": [
    "food_names = list(map(lambda f: f['name'], data['foods']))\n",
    "food_names"
   ]
  },
  {
   "cell_type": "code",
   "execution_count": 105,
   "metadata": {},
   "outputs": [
    {
     "name": "stdout",
     "output_type": "stream",
     "text": [
      "{'name': 'Cooked buckwheat', 'sources': [], 'nutrients': {'calories': {'value': 92, 'sources': ['https://www.nutritionvalue.org/Buckwheat_groats%2C_cooked%2C_roasted_nutritional_value.html?size=100%20g', 'https://www.yazio.com/en/foods/buckwheat-cooked.html']}, 'carbohydrates': {'value': 20, 'sources': ['https://www.nutritionvalue.org/Buckwheat_groats%2C_cooked%2C_roasted_nutritional_value.html?size=100%20g', 'https://www.yazio.com/en/foods/buckwheat-cooked.html']}, 'protein': {'value': 3.4, 'sources': ['https://www.nutritionvalue.org/Buckwheat_groats%2C_cooked%2C_roasted_nutritional_value.html?size=100%20g']}, 'fat': {'value': 0.6, 'sources': ['https://www.nutritionvalue.org/Buckwheat_groats%2C_cooked%2C_roasted_nutritional_value.html?size=100%20g']}}}\n",
      "{'name': 'Cooked Chicken Breast', 'nutrients': {'calories': {'value': 151, 'sources': ['https://www.nutritionvalue.org/Chicken%2C_stewed%2C_cooked%2C_meat_only%2C_breast%2C_broilers_or_fryers_nutritional_value.html?size=100+g']}, 'protein': {'value': 29, 'sources': ['https://www.nutritionvalue.org/Chicken%2C_stewed%2C_cooked%2C_meat_only%2C_breast%2C_broilers_or_fryers_nutritional_value.html?size=100+g']}, 'carbohydrates': {'value': 0, 'sources': ['https://www.nutritionvalue.org/Chicken%2C_stewed%2C_cooked%2C_meat_only%2C_breast%2C_broilers_or_fryers_nutritional_value.html?size=100+g']}, 'fat': {'value': 3, 'sources': ['https://www.nutritionvalue.org/Chicken%2C_stewed%2C_cooked%2C_meat_only%2C_breast%2C_broilers_or_fryers_nutritional_value.html?size=100+g']}}}\n",
      "{'name': 'Olive oil', 'nutrients': {'calories': {'value': 884, 'sources': ['https://www.nutritionvalue.org/Oil%2C_salad_or_cooking%2C_olive_nutritional_value.html?size=100+g']}, 'protein': {'value': 0, 'sources': ['https://www.nutritionvalue.org/Oil%2C_salad_or_cooking%2C_olive_nutritional_value.html?size=100+g']}, 'carbohydrates': {'value': 0, 'sources': ['https://www.nutritionvalue.org/Oil%2C_salad_or_cooking%2C_olive_nutritional_value.html?size=100+g']}, 'fat': {'value': 100, 'sources': ['https://www.nutritionvalue.org/Oil%2C_salad_or_cooking%2C_olive_nutritional_value.html?size=100+g']}}}\n"
     ]
    },
    {
     "data": {
      "text/plain": [
       "{'Cooked buckwheat': {'calories': 92,\n",
       "  'carbohydrates': 20,\n",
       "  'protein': 3.4,\n",
       "  'fat': 0.6},\n",
       " 'Cooked Chicken Breast': {'calories': 151,\n",
       "  'protein': 29,\n",
       "  'carbohydrates': 0,\n",
       "  'fat': 3},\n",
       " 'Olive oil': {'calories': 884, 'protein': 0, 'carbohydrates': 0, 'fat': 100}}"
      ]
     },
     "execution_count": 105,
     "metadata": {},
     "output_type": "execute_result"
    }
   ],
   "source": [
    "nutrients = {}\n",
    "nutrients_types = set()\n",
    "for food in data['foods']:\n",
    "    print(food)\n",
    "    food_name = food['name']\n",
    "    nutrients[food_name] = {}\n",
    "    for nutrient in food['nutrients']:\n",
    "        nutrients[food_name][nutrient] = food['nutrients'][nutrient]['value']\n",
    "        nutrients_types.add(nutrient)\n",
    "\n",
    "nutrients"
   ]
  },
  {
   "cell_type": "code",
   "execution_count": 106,
   "metadata": {},
   "outputs": [],
   "source": [
    "# nutrients['Cooked buckwheat groats'].get('calories', 0)"
   ]
  },
  {
   "cell_type": "code",
   "execution_count": 107,
   "metadata": {},
   "outputs": [
    {
     "name": "stdout",
     "output_type": "stream",
     "text": [
      "Status: Optimal\n",
      "Cooked Chicken Breast = 437.15523 grams\n",
      "Cooked buckwheat = 1406.25 grams\n",
      "Olive oil = 61.781176 grams\n"
     ]
    }
   ],
   "source": [
    "import pulp as pl\n",
    "prob = pl.LpProblem(\"Meal_Planning_Problem\", pl.LpMinimize)\n",
    "food_vars = pl.LpVariable.dicts(\"Amount\", food_names, lowBound=0)\n",
    "prob += pl.lpSum([food_vars[f] for f in food_names]), \"Total Weight of Food\"\n",
    "\n",
    "calories = 2500\n",
    "prob += pl.lpSum([(nutrients[f].get('calories', 0) * food_vars[f]) for f in food_names] \n",
    "                    ) >= calories, \"Min Calories\"\n",
    "\n",
    "def add_nutrient_constraints(prob, nutrients, food_vars, nutrient_name, min_value, max_value):\n",
    "    if nutrient_name not in nutrients_types:\n",
    "        raise ValueError(f\"Nutrient {nutrient_name} not found in the data\")\n",
    "    # Adding constraints for minimum nutrient values, if specified\n",
    "    if min_value is not None:\n",
    "        prob += pl.lpSum([(nutrients[f].get(nutrient_name, 0) * food_vars[f]) for f in food_names] \n",
    "                         ) >= min_value, f\"Min {nutrient_name}\"\n",
    "    if max_value is not None:\n",
    "        prob += pl.lpSum([(nutrients[f].get(nutrient_name, 0) * food_vars[f]) for f in food_names] \n",
    "                         ) <= max_value, f\"Max {nutrient_name}\"\n",
    "\n",
    "add_nutrient_constraints(prob, nutrients, food_vars, 'carbohydrates', calories * 0.45 / 4,  calories * 0.65 / 4)\n",
    "add_nutrient_constraints(prob, nutrients, food_vars, 'protein', calories * 0.1 / 4,  calories * 0.35 / 4)\n",
    "add_nutrient_constraints(prob, nutrients, food_vars, 'fat', calories * 0.0 / 9,  calories * 0.3 / 9)\n",
    "\n",
    "prob.solve()\n",
    "print(\"Status:\", pl.LpStatus[prob.status])\n",
    "for v in prob.variables():\n",
    "    if v.varValue > 0:\n",
    "        formatted_name = v.name.replace(\"Amount_\", \"\").replace(\"_\", \" \")\n",
    "        print(f\"{formatted_name} = {v.varValue * 100} grams\")"
   ]
  },
  {
   "cell_type": "markdown",
   "metadata": {},
   "source": [
    "When it comes to the most vital characteristics of a healthy diet, there are several key nutrients, vitamins, and minerals that are essential for optimal health. Here's a list of the most important components, ranked from most vital to least:\n",
    "\n",
    "1. Water: Staying hydrated is crucial for overall health and bodily functions.\n",
    "\n",
    "2. Macronutrients:\n",
    "   a. Protein: Essential for muscle growth, repair, and maintenance.\n",
    "   b. Carbohydrates: Primary energy source for the body.\n",
    "   c. Healthy fats: Important for hormone production, brain function, and cell membranes.\n",
    "\n",
    "3. Micronutrients (vitamins and minerals):\n",
    "   a. Vitamin D: Vital for bone health, immune function, and calcium absorption.\n",
    "   b. Iron: Essential for oxygen transport in the body and preventing anemia.\n",
    "   c. Calcium: Crucial for strong bones, teeth, and muscle function.\n",
    "   d. Vitamin C: Important for immune function, collagen production, and antioxidant properties.\n",
    "   e. Vitamin A: Necessary for vision, immune function, and cell growth.\n",
    "   f. B Vitamins (B12, B6, Folate, etc.): Essential for energy production, brain function, and red blood cell formation.\n",
    "   g. Magnesium: Vital for muscle and nerve function, energy production, and bone health.\n",
    "   h. Potassium: Important for heart function, muscle contraction, and blood pressure regulation.\n",
    "   i. Zinc: Crucial for immune function, wound healing, and protein synthesis.\n",
    "\n",
    "4. Fiber: Promotes digestive health, regulates blood sugar, and aids in weight management.\n",
    "\n",
    "5. Antioxidants: Help protect cells from damage caused by free radicals, reducing the risk of chronic diseases.\n",
    "\n",
    "6. Phytochemicals: Plant compounds that offer various health benefits, such as reducing inflammation and supporting heart health.\n",
    "\n",
    "7. Omega-3 fatty acids: Important for brain function, heart health, and reducing inflammation.\n",
    "\n",
    "8. Probiotics: Beneficial bacteria that support gut health and immune function.\n",
    "\n",
    "While all of these components are important for a well-rounded, healthy diet, the most vital aspects are staying hydrated, consuming a balance of macronutrients, and ensuring an adequate intake of essential vitamins and minerals."
   ]
  }
 ],
 "metadata": {
  "kernelspec": {
   "display_name": "Python 3",
   "language": "python",
   "name": "python3"
  },
  "language_info": {
   "codemirror_mode": {
    "name": "ipython",
    "version": 3
   },
   "file_extension": ".py",
   "mimetype": "text/x-python",
   "name": "python",
   "nbconvert_exporter": "python",
   "pygments_lexer": "ipython3",
   "version": "3.12.3"
  }
 },
 "nbformat": 4,
 "nbformat_minor": 2
}
