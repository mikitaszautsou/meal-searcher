{
 "cells": [
  {
   "cell_type": "code",
   "execution_count": 6,
   "metadata": {},
   "outputs": [],
   "source": [
    "import json\n",
    "\n",
    "# Load the JSON data from data.json\n",
    "with open('data/smoothie_friendly_foods.json') as f:\n",
    "    data = json.load(f)\n",
    "\n"
   ]
  },
  {
   "cell_type": "code",
   "execution_count": 7,
   "metadata": {},
   "outputs": [
    {
     "data": {
      "text/plain": [
       "['Peanut Butter, smooth',\n",
       " 'Cottage cheese(Milsani, tawrog chudy | Klinek)',\n",
       " 'Bananas']"
      ]
     },
     "execution_count": 7,
     "metadata": {},
     "output_type": "execute_result"
    }
   ],
   "source": [
    "food_names = list(map(lambda f: f['name'], data['foods']))\n",
    "food_names"
   ]
  },
  {
   "cell_type": "code",
   "execution_count": 8,
   "metadata": {},
   "outputs": [
    {
     "name": "stdout",
     "output_type": "stream",
     "text": [
      "{'name': 'Peanut Butter, smooth', 'nutrients': {'calories': {'value': 588, 'measurement': 'kkal', 'sources': ['https://www.nutritionvalue.org/Peanut_Butter%2C_smooth_nutritional_value.html?size=100+g']}, 'carbohydrates': {'value': 24, 'measurement': 'g', 'sources': ['https://www.nutritionvalue.org/Peanut_Butter%2C_smooth_nutritional_value.html?size=100+g']}, 'protein': {'value': 22, 'measurement': 'g', 'sources': ['https://www.nutritionvalue.org/Peanut_Butter%2C_smooth_nutritional_value.html?size=100+g']}, 'fat': {'value': 50, 'measurement': 'g', 'sources': ['https://www.nutritionvalue.org/Peanut_Butter%2C_smooth_nutritional_value.html?size=100+g']}, 'saturated_fat': {'value': 9.5, 'measurement': 'g', 'sources': ['https://www.nutritionvalue.org/Peanut_Butter%2C_smooth_nutritional_value.html?size=100+g']}, 'fiber': {'value': 5.7, 'measurement': 'g', 'sources': ['https://www.nutritionvalue.org/Peanut_Butter%2C_smooth_nutritional_value.html?size=100+g']}}}\n",
      "{'name': 'Cottage cheese(Milsani, tawrog chudy | Klinek)', 'nutrients': {'calories': {'value': 90, 'sources': ['Manufacturer']}, 'protein': {'value': 18, 'measurement': 'g', 'sources': ['Manufacturer']}, 'carbohydrates': {'value': 3.6, 'measurement': 'g', 'sources': ['Manufacturer']}, 'fat': {'value': 0.4, 'measurement': 'g', 'sources': ['Manufacturer']}, 'saturated_fat': {'value': 0.3, 'measurement': 'g', 'sources': ['Manufacturer']}, 'fiber': {'value': 0, 'measurement': 'g', 'sources': ['https://www.nutritionvalue.org/Cottage_cheese_1028783_nutritional_value.html?size=100%20g']}}}\n",
      "{'name': 'Bananas', 'nutrients': {'calories': {'value': 89, 'measurement': 'kkal', 'sources': ['https://www.nutritionvalue.org/Bananas%2C_raw_nutritional_value.html?size=100+g']}, 'carbohydrates': {'value': 23, 'measurement': 'g', 'sources': ['https://www.nutritionvalue.org/Bananas%2C_raw_nutritional_value.html?size=100+g']}, 'protein': {'value': 1.1, 'measurement': 'g', 'sources': ['https://www.nutritionvalue.org/Bananas%2C_raw_nutritional_value.html?size=100+g']}, 'fat': {'value': 0.3, 'measurement': 'g', 'sources': ['https://www.nutritionvalue.org/Bananas%2C_raw_nutritional_value.html?size=100+g']}, 'saturated_fat': {'value': 0.1, 'measurement': 'g', 'sources': ['https://www.nutritionvalue.org/Bananas%2C_raw_nutritional_value.html?size=100+g']}, 'fiber': {'value': 2.6, 'measurement': 'g', 'sources': ['https://www.nutritionvalue.org/Cottage_cheese_1028783_nutritional_value.html?size=100%20g']}}}\n"
     ]
    },
    {
     "data": {
      "text/plain": [
       "{'Peanut Butter, smooth': {'calories': 588,\n",
       "  'carbohydrates': 24,\n",
       "  'protein': 22,\n",
       "  'fat': 50,\n",
       "  'saturated_fat': 9.5,\n",
       "  'fiber': 5.7},\n",
       " 'Cottage cheese(Milsani, tawrog chudy | Klinek)': {'calories': 90,\n",
       "  'protein': 18,\n",
       "  'carbohydrates': 3.6,\n",
       "  'fat': 0.4,\n",
       "  'saturated_fat': 0.3,\n",
       "  'fiber': 0},\n",
       " 'Bananas': {'calories': 89,\n",
       "  'carbohydrates': 23,\n",
       "  'protein': 1.1,\n",
       "  'fat': 0.3,\n",
       "  'saturated_fat': 0.1,\n",
       "  'fiber': 2.6}}"
      ]
     },
     "execution_count": 8,
     "metadata": {},
     "output_type": "execute_result"
    }
   ],
   "source": [
    "nutrients = {}\n",
    "nutrients_types = set()\n",
    "for food in data['foods']:\n",
    "    print(food)\n",
    "    food_name = food['name']\n",
    "    nutrients[food_name] = {}\n",
    "    for nutrient in food['nutrients']:\n",
    "        nutrients[food_name][nutrient] = food['nutrients'][nutrient]['value']\n",
    "        nutrients_types.add(nutrient)\n",
    "\n",
    "nutrients"
   ]
  },
  {
   "cell_type": "code",
   "execution_count": 9,
   "metadata": {},
   "outputs": [],
   "source": [
    "# nutrients['Cooked buckwheat groats'].get('calories', 0)"
   ]
  },
  {
   "cell_type": "code",
   "execution_count": 10,
   "metadata": {},
   "outputs": [
    {
     "name": "stdout",
     "output_type": "stream",
     "text": [
      "Status: Optimal\n",
      "Bananas = 1571.5185999999999 grams\n",
      "Cottage cheese(Milsani, tawrog chudy | Klinek) = 207.26835 grams\n",
      "Peanut Butter, smooth = 155.57941 grams\n",
      "carbohydrates: 406.249997\n",
      "calories: 2499.9999998\n",
      "fat: 83.3333342\n",
      "protein: 88.8224778\n",
      "fiber: 49.72750997\n",
      "saturated_fat: 16.9733676\n",
      "Constraint Min_Calories is likely causing infeasibility\n",
      "Constraint Min_carbohydrates is likely causing infeasibility\n",
      "Constraint Max_carbohydrates is likely causing infeasibility\n",
      "Constraint Min_protein is likely causing infeasibility\n",
      "Constraint Max_protein is likely causing infeasibility\n",
      "Constraint Min_fat is likely causing infeasibility\n",
      "Constraint Max_fat is likely causing infeasibility\n",
      "Constraint Min_saturated_fat is likely causing infeasibility\n",
      "Constraint Max_saturated_fat is likely causing infeasibility\n",
      "Constraint Min_fiber is likely causing infeasibility\n"
     ]
    }
   ],
   "source": [
    "import pulp as pl\n",
    "import copy\n",
    "def find_infeasible_constraints(prob, constraints):\n",
    "    for name, constraint in constraints.items():\n",
    "        test_prob = copy.deepcopy(prob)\n",
    "        test_prob.constraints.pop(name)\n",
    "        test_prob.solve()\n",
    "        if pl.LpStatus[test_prob.status] != 'Infeasible':\n",
    "            print(f\"Constraint {name} is likely causing infeasibility\")\n",
    "        # else:\n",
    "        #     print(f\"Constraint {name} is not causing infeasibility\")\n",
    "\n",
    "prob = pl.LpProblem(\"Meal_Planning_Problem\", pl.LpMinimize)\n",
    "food_vars = pl.LpVariable.dicts(\"Amount\", food_names, lowBound=0)\n",
    "prob += pl.lpSum([food_vars[f] for f in food_names]), \"Total Weight of Food\"\n",
    "\n",
    "calories = 2500\n",
    "prob += pl.lpSum([(nutrients[f].get('calories', 0) * food_vars[f]) for f in food_names] \n",
    "                    ) >= calories, \"Min Calories\"\n",
    "\n",
    "def add_nutrient_constraints(prob, nutrients, food_vars, nutrient_name, min_value, max_value):\n",
    "    if nutrient_name not in nutrients_types:\n",
    "        raise ValueError(f\"Nutrient {nutrient_name} not found in the data\")\n",
    "    # Adding constraints for minimum nutrient values, if specified\n",
    "    if min_value is not None:\n",
    "        prob += pl.lpSum([(nutrients[f].get(nutrient_name, 0) * food_vars[f]) for f in food_names] \n",
    "                         ) >= min_value, f\"Min {nutrient_name}\"\n",
    "    if max_value is not None:\n",
    "        prob += pl.lpSum([(nutrients[f].get(nutrient_name, 0) * food_vars[f]) for f in food_names] \n",
    "                         ) <= max_value, f\"Max {nutrient_name}\"\n",
    "\n",
    "add_nutrient_constraints(prob, nutrients, food_vars, 'carbohydrates', calories * 0.45 / 4,  calories * 0.65 / 4)\n",
    "add_nutrient_constraints(prob, nutrients, food_vars, 'protein', calories * 0.1 / 4,  calories * 0.35 / 4)\n",
    "add_nutrient_constraints(prob, nutrients, food_vars, 'fat', calories * 0.0 / 9,  calories * 0.3 / 9)\n",
    "add_nutrient_constraints(prob, nutrients, food_vars, 'saturated_fat', 0,  calories * 0.1 / 9)\n",
    "# add_nutrient_constraints(prob, nutrients, food_vars, 'vitamin_d', 15, 100) # mcg\n",
    "# add_nutrient_constraints(prob, nutrients, food_vars, 'iron', 8, 45) # mg\n",
    "# add_nutrient_constraints(prob, nutrients, food_vars, 'calcium', 1000, 2500) # mg\n",
    "# add_nutrient_constraints(prob, nutrients, food_vars, 'vitamin_c', 90, 2000) # mg\n",
    "# add_nutrient_constraints(prob, nutrients, food_vars, 'vitamin_a', 900, 3000) # mcg\n",
    "add_nutrient_constraints(prob, nutrients, food_vars, 'fiber', 38, None) # g\n",
    "# add_nutrient_constraints(prob, nutrients, food_vars, 'vitamin_e', 15, 1000) # mg\n",
    "# add_nutrient_constraints(prob, nutrients, food_vars, 'vitamin_k', 120, None) # mcg\n",
    "# add_nutrient_constraints(prob, nutrients, food_vars, 'selenium', 55, 400) # mcg\n",
    "\n",
    "prob.solve()\n",
    "print(\"Status:\", pl.LpStatus[prob.status])\n",
    "for v in prob.variables():\n",
    "    if v.varValue > 0:\n",
    "        formatted_name = v.name.replace(\"Amount_\", \"\").replace(\"_\", \" \")\n",
    "        print(f\"{formatted_name} = {v.varValue * 100} grams\")\n",
    "# Print nutrients for the optimal solution\n",
    "\n",
    "for nutrient in nutrients_types:\n",
    "    nutrient_value = pl.lpSum([(nutrients[f].get(nutrient, 0) * food_vars[f].varValue) for f in food_names])\n",
    "    print(f\"{nutrient}: {nutrient_value}\")\n",
    "\n",
    "\n",
    "# Collect all constraints\n",
    "constraints = {name: prob.constraints[name] for name in prob.constraints.keys()}\n",
    "\n",
    "# Find infeasible constraints\n",
    "find_infeasible_constraints(prob, constraints)\n",
    "# https://ecosupplements.pl/product/norweski-olej-z-watroby-dorsza-1000mg-omega-3-bez-smaku-250-ml/"
   ]
  },
  {
   "cell_type": "markdown",
   "metadata": {},
   "source": [
    "Included Nutrients\n",
    "\n",
    "Vitamin D\n",
    "Iron\n",
    "Calcium\n",
    "Vitamin C\n",
    "Vitamin A\n",
    "Fiber\n",
    "Vitamin E\n",
    "Vitamin K\n",
    "Selenium\n",
    "\n",
    "\n",
    "\n",
    "\n",
    "\n",
    "\n",
    "B Vitamins:\n",
    "B1 (Thiamine): 1.1-1.2 mg/day\n",
    "B2 (Riboflavin): 1.1-1.3 mg/day\n",
    "B3 (Niacin): 14-16 mg/day\n",
    "B5 (Pantothenic Acid): 5 mg/day\n",
    "B6 (Pyridoxine): 1.3-1.7 mg/day\n",
    "B7 (Biotin): 30 µg/day\n",
    "B9 (Folate): 400 µg/day\n",
    "B12 (Cobalamin): 2.4 µg/day\n",
    "Minerals:\n",
    "\n",
    "Calcium: 1,000-1,300 mg/day\n",
    "Iron: 8-18 mg/day\n",
    "Magnesium: 310-420 mg/day\n",
    "Phosphorus: 700 mg/day\n",
    "Potassium: 2,500-3,400 mg/day\n",
    "Sodium: Less than 2,300 mg/day\n",
    "Zinc: 8-11 mg/day\n",
    "Iodine: 150 µg/day\n",
    "\n",
    "Copper: 900 µg/day\n",
    "Manganese: 1.8-2.3 mg/day\n",
    "Fluoride: 3-4 mg/day\n",
    "Antioxidants: Various amounts depending on the food source (e.g., flavonoids, polyphenols)\n",
    "\n",
    "Phytochemicals: No specific RDI, but beneficial for health (e.g., carotenoids, flavonoids)\n",
    "\n",
    "Probiotics: No specific RDI, but beneficial for gut health (e.g., from yogurt, kefir)"
   ]
  }
 ],
 "metadata": {
  "kernelspec": {
   "display_name": "Python 3",
   "language": "python",
   "name": "python3"
  },
  "language_info": {
   "codemirror_mode": {
    "name": "ipython",
    "version": 3
   },
   "file_extension": ".py",
   "mimetype": "text/x-python",
   "name": "python",
   "nbconvert_exporter": "python",
   "pygments_lexer": "ipython3",
   "version": "3.12.3"
  }
 },
 "nbformat": 4,
 "nbformat_minor": 2
}
